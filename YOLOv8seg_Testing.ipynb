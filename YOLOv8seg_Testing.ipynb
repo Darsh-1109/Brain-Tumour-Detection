{
 "cells": [
  {
   "cell_type": "code",
   "execution_count": 1,
   "metadata": {},
   "outputs": [],
   "source": [
    "from ultralytics import YOLO\n",
    "model = YOLO('models/yolov8n-seg-d3.pt')"
   ]
  },
  {
   "cell_type": "code",
   "execution_count": 4,
   "metadata": {},
   "outputs": [
    {
     "ename": "AttributeError",
     "evalue": "'YOLO' object has no attribute 'results'. See valid attributes below.\n\n    YOLO (You Only Look Once) object detection model.\n    ",
     "output_type": "error",
     "traceback": [
      "\u001b[1;31m---------------------------------------------------------------------------\u001b[0m",
      "\u001b[1;31mAttributeError\u001b[0m                            Traceback (most recent call last)",
      "\u001b[1;32mc:\\Users\\a21ma\\OneDrive\\Desktop\\Code\\Projects\\Brain Tumour Detection (IPD)\\YOLOv8segTesting.ipynb Cell 2\u001b[0m line \u001b[0;36m1\n\u001b[1;32m----> <a href='vscode-notebook-cell:/c%3A/Users/a21ma/OneDrive/Desktop/Code/Projects/Brain%20Tumour%20Detection%20%28IPD%29/YOLOv8segTesting.ipynb#W4sZmlsZQ%3D%3D?line=0'>1</a>\u001b[0m training_info \u001b[39m=\u001b[39m model\u001b[39m.\u001b[39;49mresults()\n\u001b[0;32m      <a href='vscode-notebook-cell:/c%3A/Users/a21ma/OneDrive/Desktop/Code/Projects/Brain%20Tumour%20Detection%20%28IPD%29/YOLOv8segTesting.ipynb#W4sZmlsZQ%3D%3D?line=1'>2</a>\u001b[0m \u001b[39mprint\u001b[39m(training_info)\n",
      "File \u001b[1;32mc:\\Users\\a21ma\\AppData\\Local\\Programs\\Python\\Python311\\Lib\\site-packages\\ultralytics\\engine\\model.py:448\u001b[0m, in \u001b[0;36mModel.__getattr__\u001b[1;34m(self, attr)\u001b[0m\n\u001b[0;32m    446\u001b[0m \u001b[39m\u001b[39m\u001b[39m\"\"\"Raises error if object has no requested attribute.\"\"\"\u001b[39;00m\n\u001b[0;32m    447\u001b[0m name \u001b[39m=\u001b[39m \u001b[39mself\u001b[39m\u001b[39m.\u001b[39m\u001b[39m__class__\u001b[39m\u001b[39m.\u001b[39m\u001b[39m__name__\u001b[39m\n\u001b[1;32m--> 448\u001b[0m \u001b[39mraise\u001b[39;00m \u001b[39mAttributeError\u001b[39;00m(\u001b[39mf\u001b[39m\u001b[39m\"\u001b[39m\u001b[39m'\u001b[39m\u001b[39m{\u001b[39;00mname\u001b[39m}\u001b[39;00m\u001b[39m'\u001b[39m\u001b[39m object has no attribute \u001b[39m\u001b[39m'\u001b[39m\u001b[39m{\u001b[39;00mattr\u001b[39m}\u001b[39;00m\u001b[39m'\u001b[39m\u001b[39m. See valid attributes below.\u001b[39m\u001b[39m\\n\u001b[39;00m\u001b[39m{\u001b[39;00m\u001b[39mself\u001b[39m\u001b[39m.\u001b[39m\u001b[39m__doc__\u001b[39m\u001b[39m}\u001b[39;00m\u001b[39m\"\u001b[39m)\n",
      "\u001b[1;31mAttributeError\u001b[0m: 'YOLO' object has no attribute 'results'. See valid attributes below.\n\n    YOLO (You Only Look Once) object detection model.\n    "
     ]
    }
   ],
   "source": [
    "training_info = model.results()\n",
    "print(training_info)"
   ]
  },
  {
   "cell_type": "code",
   "execution_count": 3,
   "metadata": {},
   "outputs": [
    {
     "ename": "AttributeError",
     "evalue": "'YOLO' object has no attribute 'results'. See valid attributes below.\n\n    YOLO (You Only Look Once) object detection model.\n    ",
     "output_type": "error",
     "traceback": [
      "\u001b[1;31m---------------------------------------------------------------------------\u001b[0m",
      "\u001b[1;31mAttributeError\u001b[0m                            Traceback (most recent call last)",
      "\u001b[1;32mc:\\Users\\a21ma\\OneDrive\\Desktop\\Code\\Projects\\Brain Tumour Detection (IPD)\\YOLOv8segTesting.ipynb Cell 2\u001b[0m line \u001b[0;36m2\n\u001b[0;32m      <a href='vscode-notebook-cell:/c%3A/Users/a21ma/OneDrive/Desktop/Code/Projects/Brain%20Tumour%20Detection%20%28IPD%29/YOLOv8segTesting.ipynb#W3sZmlsZQ%3D%3D?line=0'>1</a>\u001b[0m \u001b[39m# Get training results\u001b[39;00m\n\u001b[1;32m----> <a href='vscode-notebook-cell:/c%3A/Users/a21ma/OneDrive/Desktop/Code/Projects/Brain%20Tumour%20Detection%20%28IPD%29/YOLOv8segTesting.ipynb#W3sZmlsZQ%3D%3D?line=1'>2</a>\u001b[0m results \u001b[39m=\u001b[39m model\u001b[39m.\u001b[39;49mresults()\n\u001b[0;32m      <a href='vscode-notebook-cell:/c%3A/Users/a21ma/OneDrive/Desktop/Code/Projects/Brain%20Tumour%20Detection%20%28IPD%29/YOLOv8segTesting.ipynb#W3sZmlsZQ%3D%3D?line=3'>4</a>\u001b[0m \u001b[39m# Display training loss curve\u001b[39;00m\n\u001b[0;32m      <a href='vscode-notebook-cell:/c%3A/Users/a21ma/OneDrive/Desktop/Code/Projects/Brain%20Tumour%20Detection%20%28IPD%29/YOLOv8segTesting.ipynb#W3sZmlsZQ%3D%3D?line=4'>5</a>\u001b[0m results\u001b[39m.\u001b[39mplot_losses()\n",
      "File \u001b[1;32mc:\\Users\\a21ma\\AppData\\Local\\Programs\\Python\\Python311\\Lib\\site-packages\\ultralytics\\engine\\model.py:448\u001b[0m, in \u001b[0;36mModel.__getattr__\u001b[1;34m(self, attr)\u001b[0m\n\u001b[0;32m    446\u001b[0m \u001b[39m\u001b[39m\u001b[39m\"\"\"Raises error if object has no requested attribute.\"\"\"\u001b[39;00m\n\u001b[0;32m    447\u001b[0m name \u001b[39m=\u001b[39m \u001b[39mself\u001b[39m\u001b[39m.\u001b[39m\u001b[39m__class__\u001b[39m\u001b[39m.\u001b[39m\u001b[39m__name__\u001b[39m\n\u001b[1;32m--> 448\u001b[0m \u001b[39mraise\u001b[39;00m \u001b[39mAttributeError\u001b[39;00m(\u001b[39mf\u001b[39m\u001b[39m\"\u001b[39m\u001b[39m'\u001b[39m\u001b[39m{\u001b[39;00mname\u001b[39m}\u001b[39;00m\u001b[39m'\u001b[39m\u001b[39m object has no attribute \u001b[39m\u001b[39m'\u001b[39m\u001b[39m{\u001b[39;00mattr\u001b[39m}\u001b[39;00m\u001b[39m'\u001b[39m\u001b[39m. See valid attributes below.\u001b[39m\u001b[39m\\n\u001b[39;00m\u001b[39m{\u001b[39;00m\u001b[39mself\u001b[39m\u001b[39m.\u001b[39m\u001b[39m__doc__\u001b[39m\u001b[39m}\u001b[39;00m\u001b[39m\"\u001b[39m)\n",
      "\u001b[1;31mAttributeError\u001b[0m: 'YOLO' object has no attribute 'results'. See valid attributes below.\n\n    YOLO (You Only Look Once) object detection model.\n    "
     ]
    }
   ],
   "source": [
    "# Get training results\n",
    "results = model.results()\n",
    "\n",
    "# Display training loss curve\n",
    "results.plot_losses()\n",
    "\n",
    "# Display precision-recall curve\n",
    "results.plot_pr_curve()\n",
    "\n",
    "# Display confusion matrix\n",
    "results.plot_confusion_matrix()\n",
    "\n",
    "# Display mAP (mean average precision) values\n",
    "results.display_results()\n",
    "results.plot_pr_curve(classwise=True)\n"
   ]
  },
  {
   "cell_type": "code",
   "execution_count": null,
   "metadata": {},
   "outputs": [],
   "source": [
    "results=model('Datasets\\Dataset 2\\Brain Tumor Data Set\\Brain Tumor\\Cancer (1).jpg', save=True, project=r'C:\\Users\\a21ma\\OneDrive\\Desktop\\Code\\Projects\\Brain Tumour Detection (IPD)\\website\\backend\\tumour_detections', name = 'TestDetection')"
   ]
  },
  {
   "cell_type": "code",
   "execution_count": 14,
   "metadata": {},
   "outputs": [
    {
     "name": "stdout",
     "output_type": "stream",
     "text": [
      "object\n"
     ]
    }
   ],
   "source": [
    "for result in results:\n",
    "    print(result.names[0])"
   ]
  }
 ],
 "metadata": {
  "kernelspec": {
   "display_name": "Python 3",
   "language": "python",
   "name": "python3"
  },
  "language_info": {
   "codemirror_mode": {
    "name": "ipython",
    "version": 3
   },
   "file_extension": ".py",
   "mimetype": "text/x-python",
   "name": "python",
   "nbconvert_exporter": "python",
   "pygments_lexer": "ipython3",
   "version": "3.11.4"
  },
  "orig_nbformat": 4
 },
 "nbformat": 4,
 "nbformat_minor": 2
}
