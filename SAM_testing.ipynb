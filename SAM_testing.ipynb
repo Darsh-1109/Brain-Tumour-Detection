{
 "cells": [
  {
   "cell_type": "code",
   "execution_count": 8,
   "metadata": {},
   "outputs": [
    {
     "name": "stderr",
     "output_type": "stream",
     "text": [
      "Model summary: 238 layers, 93735472 parameters, 93735472 gradients\n",
      "Ultralytics YOLOv8.0.132  Python-3.11.4 torch-2.0.1+cpu CPU\n",
      "\n",
      "image 1/1 C:\\Users\\a21ma\\OneDrive\\Desktop\\Brain Tumour Detection\\Dataset 1\\yes\\Y2.jpg: 209x3 116067.2ms\n",
      "Speed: 0.0ms preprocess, 116067.2ms inference, 0.0ms postprocess per image at shape (1, 3, 3)\n",
      "Results saved to \u001b[1mruns\\segment\\predict2\u001b[0m\n"
     ]
    },
    {
     "data": {
      "text/plain": [
       "[ultralytics.yolo.engine.results.Results object with attributes:\n",
       " \n",
       " boxes: None\n",
       " keypoints: None\n",
       " keys: ['masks']\n",
       " masks: ultralytics.yolo.engine.results.Masks object\n",
       " names: {0: 0, 1: 1, 2: 2, 3: 3, 4: 4, 5: 5, 6: 6, 7: 7, 8: 8, 9: 9, 10: 10, 11: 11, 12: 12, 13: 13, 14: 14}\n",
       " orig_img: array([[[0, 0, 0],\n",
       "         [0, 0, 0],\n",
       "         [0, 0, 0],\n",
       "         ...,\n",
       "         [0, 0, 0],\n",
       "         [0, 0, 0],\n",
       "         [0, 0, 0]],\n",
       " \n",
       "        [[0, 0, 0],\n",
       "         [0, 0, 0],\n",
       "         [0, 0, 0],\n",
       "         ...,\n",
       "         [0, 0, 0],\n",
       "         [0, 0, 0],\n",
       "         [0, 0, 0]],\n",
       " \n",
       "        [[0, 0, 0],\n",
       "         [0, 0, 0],\n",
       "         [0, 0, 0],\n",
       "         ...,\n",
       "         [0, 0, 0],\n",
       "         [0, 0, 0],\n",
       "         [0, 0, 0]],\n",
       " \n",
       "        ...,\n",
       " \n",
       "        [[0, 0, 0],\n",
       "         [0, 0, 0],\n",
       "         [0, 0, 0],\n",
       "         ...,\n",
       "         [0, 0, 0],\n",
       "         [0, 0, 0],\n",
       "         [0, 0, 0]],\n",
       " \n",
       "        [[0, 0, 0],\n",
       "         [0, 0, 0],\n",
       "         [0, 0, 0],\n",
       "         ...,\n",
       "         [0, 0, 0],\n",
       "         [0, 0, 0],\n",
       "         [0, 0, 0]],\n",
       " \n",
       "        [[0, 0, 0],\n",
       "         [0, 0, 0],\n",
       "         [0, 0, 0],\n",
       "         ...,\n",
       "         [0, 0, 0],\n",
       "         [0, 0, 0],\n",
       "         [0, 0, 0]]], dtype=uint8)\n",
       " orig_shape: (212, 209)\n",
       " path: 'C:\\\\Users\\\\a21ma\\\\OneDrive\\\\Desktop\\\\Brain Tumour Detection\\\\Dataset 1\\\\yes\\\\Y2.jpg'\n",
       " probs: None\n",
       " save_dir: 'runs\\\\segment\\\\predict2'\n",
       " speed: {'preprocess': 0.0, 'inference': 116067.2116279602, 'postprocess': 0.0}]"
      ]
     },
     "execution_count": 8,
     "metadata": {},
     "output_type": "execute_result"
    }
   ],
   "source": [
    "# from ultralytics import SAM\n",
    "from ultralytics import SAM\n",
    "\n",
    "# Load a model\n",
    "model = SAM('sam_b.pt')\n",
    "\n",
    "# Display model information (optional)\n",
    "model.info()\n",
    "\n",
    "# Run inference\n",
    "model('C:/Users/a21ma/OneDrive/Desktop/Brain Tumour Detection/Dataset 1/yes/Y2.jpg')\n"
   ]
  }
 ],
 "metadata": {
  "kernelspec": {
   "display_name": "Python 3",
   "language": "python",
   "name": "python3"
  },
  "language_info": {
   "codemirror_mode": {
    "name": "ipython",
    "version": 3
   },
   "file_extension": ".py",
   "mimetype": "text/x-python",
   "name": "python",
   "nbconvert_exporter": "python",
   "pygments_lexer": "ipython3",
   "version": "3.11.4"
  },
  "orig_nbformat": 4
 },
 "nbformat": 4,
 "nbformat_minor": 2
}
